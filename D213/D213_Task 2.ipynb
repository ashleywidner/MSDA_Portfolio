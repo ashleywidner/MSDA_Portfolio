{
 "cells": [
  {
   "cell_type": "markdown",
   "id": "2f1268bb",
   "metadata": {},
   "source": [
    "# D213: Advanced Data Analytics – Task 12 Sentiment Analysis using Neural Networks\n",
    "\n",
    "## Part I: Research Question\n",
    "### A1. Research Question\n",
    "Is it possible to predict if an Amazon customer's review will be positive or negative on a product based on past reviews from other Amazon customers? \n",
    "\n",
    "### A2. Goal of the Analysis\n",
    "The goal of this analysis is to build a neural network that is designed to use past reviews from other Amazon customers to predict the sentiments of a product.\n",
    "\n",
    "### A3. Prescribed Network\n",
    "I will be using is the Recurrent Neural Network(RNN) because not only is it beneficial for time series predictions, it also has an internal memory that is useful in remembering past reviews to make more accurate predictions (Donges, 2024). \n",
    "\n",
    "## Part II: Data Preparation\n",
    "### B1. Data Exploration"
   ]
  },
  {
   "cell_type": "code",
   "execution_count": 1,
   "id": "811ade93",
   "metadata": {},
   "outputs": [
    {
     "name": "stdout",
     "output_type": "stream",
     "text": [
      "                                             Reviews  Sentiment\n",
      "0  So there is no way for me to plug it in here i...          0\n",
      "1                        Good case, Excellent value.          1\n",
      "2                             Great for the jawbone.          1\n",
      "3  Tied to charger for conversations lasting more...          0\n",
      "4                                  The mic is great.          1\n",
      "\n",
      "Shape of data: (1000, 2)\n",
      "\n",
      "<class 'pandas.core.frame.DataFrame'>\n",
      "RangeIndex: 1000 entries, 0 to 999\n",
      "Data columns (total 2 columns):\n",
      " #   Column     Non-Null Count  Dtype \n",
      "---  ------     --------------  ----- \n",
      " 0   Reviews    1000 non-null   object\n",
      " 1   Sentiment  1000 non-null   int64 \n",
      "dtypes: int64(1), object(1)\n",
      "memory usage: 15.8+ KB\n",
      "None\n"
     ]
    }
   ],
   "source": [
    "# Import packages and libraries\n",
    "import pandas as pd\n",
    "import numpy as np\n",
    "import matplotlib.pyplot as plt\n",
    "import seaborn as sns\n",
    "\n",
    "import tensorflow as tf\n",
    "from tensorflow.keras.preprocessing.sequence import pad_sequences\n",
    "from tensorflow.keras.preprocessing.text import Tokenizer\n",
    "from tensorflow import keras\n",
    "from tensorflow.keras import layers\n",
    "from tensorflow.keras.callbacks import EarlyStopping\n",
    "from tensorflow.keras.models import Sequential, Model\n",
    "from tensorflow.keras.layers import Dense, Embedding, GlobalAveragePooling1D\n",
    "\n",
    "from keras.utils import to_categorical\n",
    "\n",
    "import nltk\n",
    "from nltk.stem import WordNetLemmatizer, PorterStemmer\n",
    "from nltk.corpus import stopwords\n",
    "from nltk.tokenize import word_tokenize\n",
    "from sklearn.model_selection import train_test_split\n",
    "from sklearn.metrics import confusion_matrix, ConfusionMatrixDisplay\n",
    "from sklearn.datasets import make_classification\n",
    "from sklearn.svm import SVC\n",
    "\n",
    "import re\n",
    "\n",
    "# Ignore warning code\n",
    "import warnings\n",
    "warnings.filterwarnings(\"ignore\")\n",
    "\n",
    "# Load the Amazon dataset by using read_csv command\n",
    "df = pd.read_csv(r'C:\\Users\\ashle\\Downloads\\D213 Task 2\\sentiment labelled sentences\\amazon_cells_labelled.txt', \n",
    "                     delimiter='\\t', header=None, names=['Reviews','Sentiment'])\n",
    "\n",
    "# Explore the data\n",
    "print(df.head())\n",
    "print()\n",
    "print(\"Shape of data:\", df.shape)\n",
    "print()\n",
    "print(df.info())"
   ]
  },
  {
   "cell_type": "code",
   "execution_count": 2,
   "id": "4b8ca076",
   "metadata": {},
   "outputs": [
    {
     "name": "stdout",
     "output_type": "stream",
     "text": [
      "Sentiment\n",
      "0    500\n",
      "1    500\n",
      "Name: count, dtype: int64\n"
     ]
    },
    {
     "data": {
      "image/png": "[encoded data removed]",
      "text/plain": [
       "<Figure size 640x480 with 1 Axes>"
      ]
     },
     "metadata": {},
     "output_type": "display_data"
    }
   ],
   "source": [
    "# Plot the sentiments  (0 = negative, 1 = positive)\n",
    "print(df['Sentiment'].value_counts())\n",
    "df['Sentiment'].value_counts().plot(kind='bar')\n",
    "plt.show()"
   ]
  },
  {
   "cell_type": "code",
   "execution_count": 3,
   "id": "770aefcc",
   "metadata": {},
   "outputs": [
    {
     "data": {
      "text/plain": [
       "Reviews      0\n",
       "Sentiment    0\n",
       "dtype: int64"
      ]
     },
     "execution_count": 3,
     "metadata": {},
     "output_type": "execute_result"
    }
   ],
   "source": [
    "# Check for NaN\n",
    "df.isna().sum()"
   ]
  },
  {
   "cell_type": "code",
   "execution_count": 4,
   "id": "5494298e",
   "metadata": {},
   "outputs": [
    {
     "data": {
      "text/plain": [
       "Reviews      0\n",
       "Sentiment    0\n",
       "dtype: int64"
      ]
     },
     "execution_count": 4,
     "metadata": {},
     "output_type": "execute_result"
    }
   ],
   "source": [
    "# Drop any null values\n",
    "df.dropna(inplace=True)\n",
    "df.isnull().sum()"
   ]
  },
  {
   "cell_type": "markdown",
   "id": "931af5ad",
   "metadata": {},
   "source": [
    "#### B1a. Presence of unusual characters (e.g., emojis, non-English characters)\n",
    "The presence of unusual characters like uppercase letters, punctuations, emojis, and non-English characters need to be removed. The reason for the removal is to standardize the data, making it easier to analyze. The code and description of the code used can be found below:"
   ]
  },
  {
   "cell_type": "code",
   "execution_count": 5,
   "id": "39395310",
   "metadata": {},
   "outputs": [
    {
     "name": "stdout",
     "output_type": "stream",
     "text": [
      "['S', 'o', ' ', 't', 'h', 'e', 'r', 'i', 's', 'n', 'w', 'a', 'y', 'f', 'm', 'p', 'l', 'u', 'g', 'U', 'I', 'b', 'c', 'v', '.', 'G', 'd', ',', 'E', 'x', 'j', 'T', '4', '5', 'M', 'A', 'J', 'O', 'R', 'P', 'B', 'L', '!', 'z', 'N', 'W', 'q', 'H', '+', 'V', '\"', 'Y', 'D', 'F', 'k', \"'\", 'K', 'C', '/', '7', '3', '6', '8', '0', '2', '?', 'Z', '-', '1', ':', ')', '(', 'Q', '&', '$', '*', ';', 'X', '%', '9', '#', '[', ']']\n"
     ]
    }
   ],
   "source": [
    "# Identify the characters in the reviews column\n",
    "commentary = df['Reviews']\n",
    "list_of_characters = []\n",
    "for comment in commentary: \n",
    "    for character in comment:\n",
    "        if character not in list_of_characters:\n",
    "            list_of_characters.append(character)\n",
    "print(list_of_characters)"
   ]
  },
  {
   "cell_type": "code",
   "execution_count": 6,
   "id": "d8218d5e",
   "metadata": {
    "scrolled": true
   },
   "outputs": [],
   "source": [
    "# Remove the stop words, special characters, etc. (Elleh, n.d.)\n",
    "description_list = []\n",
    "stop_words = stopwords.words('english')\n",
    "for description in df['Reviews']:\n",
    "    \n",
    "    # \"^a-zA-Z\" is filtering out any characters that are not in the alphabet\n",
    "    description = re.sub(\"[^a-zA-Z]\", \" \", description) \n",
    "\n",
    "    # Convert the text to lowercase\n",
    "    description = description.lower()\n",
    "\n",
    "    # Perform tokenization    \n",
    "    description = nltk.word_tokenize(description)\n",
    "\n",
    "    # Perform lemmatization\n",
    "    lemma = nltk.WordNetLemmatizer()\n",
    "    description = [lemma.lemmatize(word) for word in description]\n",
    "    \n",
    "    # Remove the stop words    \n",
    "    description = [word for word in description if not word in stop_words]\n",
    "    description = \" \".join(description)\n",
    "    description_list.append(description)"
   ]
  },
  {
   "cell_type": "code",
   "execution_count": 7,
   "id": "17ed1397",
   "metadata": {},
   "outputs": [
    {
     "data": {
      "text/html": [
       "<div>\n",
       "<style scoped>\n",
       "    .dataframe tbody tr th:only-of-type {\n",
       "        vertical-align: middle;\n",
       "    }\n",
       "\n",
       "    .dataframe tbody tr th {\n",
       "        vertical-align: top;\n",
       "    }\n",
       "\n",
       "    .dataframe thead th {\n",
       "        text-align: right;\n",
       "    }\n",
       "</style>\n",
       "<table border=\"1\" class=\"dataframe\">\n",
       "  <thead>\n",
       "    <tr style=\"text-align: right;\">\n",
       "      <th></th>\n",
       "      <th>Clean_Reviews</th>\n",
       "      <th>Sentiment</th>\n",
       "    </tr>\n",
       "  </thead>\n",
       "  <tbody>\n",
       "    <tr>\n",
       "      <th>0</th>\n",
       "      <td>way plug u unless go converter</td>\n",
       "      <td>0</td>\n",
       "    </tr>\n",
       "    <tr>\n",
       "      <th>1</th>\n",
       "      <td>good case excellent value</td>\n",
       "      <td>1</td>\n",
       "    </tr>\n",
       "    <tr>\n",
       "      <th>2</th>\n",
       "      <td>great jawbone</td>\n",
       "      <td>1</td>\n",
       "    </tr>\n",
       "    <tr>\n",
       "      <th>3</th>\n",
       "      <td>tied charger conversation lasting minute major...</td>\n",
       "      <td>0</td>\n",
       "    </tr>\n",
       "    <tr>\n",
       "      <th>4</th>\n",
       "      <td>mic great</td>\n",
       "      <td>1</td>\n",
       "    </tr>\n",
       "    <tr>\n",
       "      <th>...</th>\n",
       "      <td>...</td>\n",
       "      <td>...</td>\n",
       "    </tr>\n",
       "    <tr>\n",
       "      <th>995</th>\n",
       "      <td>screen doe get smudged easily touch ear face</td>\n",
       "      <td>0</td>\n",
       "    </tr>\n",
       "    <tr>\n",
       "      <th>996</th>\n",
       "      <td>piece junk lose call phone</td>\n",
       "      <td>0</td>\n",
       "    </tr>\n",
       "    <tr>\n",
       "      <th>997</th>\n",
       "      <td>item doe match picture</td>\n",
       "      <td>0</td>\n",
       "    </tr>\n",
       "    <tr>\n",
       "      <th>998</th>\n",
       "      <td>thing disappoint infra red port irda</td>\n",
       "      <td>0</td>\n",
       "    </tr>\n",
       "    <tr>\n",
       "      <th>999</th>\n",
       "      <td>answer call unit never worked</td>\n",
       "      <td>0</td>\n",
       "    </tr>\n",
       "  </tbody>\n",
       "</table>\n",
       "<p>1000 rows × 2 columns</p>\n",
       "</div>"
      ],
      "text/plain": [
       "                                         Clean_Reviews  Sentiment\n",
       "0                       way plug u unless go converter          0\n",
       "1                            good case excellent value          1\n",
       "2                                        great jawbone          1\n",
       "3    tied charger conversation lasting minute major...          0\n",
       "4                                            mic great          1\n",
       "..                                                 ...        ...\n",
       "995       screen doe get smudged easily touch ear face          0\n",
       "996                         piece junk lose call phone          0\n",
       "997                             item doe match picture          0\n",
       "998               thing disappoint infra red port irda          0\n",
       "999                      answer call unit never worked          0\n",
       "\n",
       "[1000 rows x 2 columns]"
      ]
     },
     "execution_count": 7,
     "metadata": {},
     "output_type": "execute_result"
    }
   ],
   "source": [
    "# Create a dataframe from the description_list\n",
    "clean_df = pd.DataFrame(description_list, columns=['Clean_Reviews'])\n",
    "\n",
    "# Add the Sentiments column from the original dataframe to the new dataframe\n",
    "clean_df = pd.concat([clean_df, df['Sentiment']], axis=1)\n",
    "\n",
    "# Display the new dataframe\n",
    "clean_df"
   ]
  },
  {
   "cell_type": "markdown",
   "id": "12850805",
   "metadata": {},
   "source": [
    "#### B1b. Vocabulary Size\n",
    "The vocabulary size is the number of unique words in the dataset. The vocabulary size calculated is 1,568."
   ]
  },
  {
   "cell_type": "code",
   "execution_count": 8,
   "id": "64977bbd",
   "metadata": {},
   "outputs": [
    {
     "name": "stdout",
     "output_type": "stream",
     "text": [
      "Vocabulary Size: 1568\n"
     ]
    }
   ],
   "source": [
    "# Calculate the vocabulary size -- this is the number of unique (tokenized) words in the dataset\n",
    "tokenizer = Tokenizer()\n",
    "tokenizer.fit_on_texts(clean_df['Clean_Reviews'])\n",
    "vocab_size = len(tokenizer.word_index) + 1\n",
    "\n",
    "# Print the vocabulary size\n",
    "print(\"Vocabulary Size:\", vocab_size)"
   ]
  },
  {
   "cell_type": "markdown",
   "id": "2442dab6",
   "metadata": {},
   "source": [
    "#### B1c. Proposed Word Embedding Length\n",
    "Word embeddings represent words as vectors in a specific space. Each word has one vector, and these vectors’ values are learned using methods similar to neural networks, linking this technique to deep learning (Brownlee, 2021). It is calculated by calculating the \"fourth root\" of the vocabulary size. This is the squared root of the square root. Therefore, the proposesd word embedding length is 6."
   ]
  },
  {
   "cell_type": "code",
   "execution_count": 9,
   "id": "e1fa0050",
   "metadata": {},
   "outputs": [
    {
     "name": "stdout",
     "output_type": "stream",
     "text": [
      "The maximum length of our sequences is: 17\n",
      "The median length of our sequences is: 4.0\n",
      "The minimum length of our sequences is: 1\n"
     ]
    }
   ],
   "source": [
    "# Calculate the lengths of all review sequences\n",
    "review_length = []\n",
    "for char_len in clean_df['Clean_Reviews']:\n",
    "    review_length.append(len(char_len.split(\" \")))\n",
    "\n",
    "max_length = np.max(review_length)\n",
    "median_length = np.median(review_length)\n",
    "min_length = np.min(review_length)\n",
    "\n",
    "print(\"The maximum length of our sequences is:\", max_length)\n",
    "print(\"The median length of our sequences is:\", median_length)\n",
    "print(\"The minimum length of our sequences is:\", min_length)"
   ]
  },
  {
   "cell_type": "code",
   "execution_count": 10,
   "id": "ac82c983",
   "metadata": {},
   "outputs": [
    {
     "data": {
      "text/plain": [
       "6"
      ]
     },
     "execution_count": 10,
     "metadata": {},
     "output_type": "execute_result"
    }
   ],
   "source": [
    "# Calculate the proposed word embedding length \n",
    "embed_size = int(round(np.sqrt(np.sqrt(vocab_size)), 0))\n",
    "embed_size"
   ]
  },
  {
   "cell_type": "markdown",
   "id": "4eff77dc",
   "metadata": {},
   "source": [
    "#### B1d. Statistical Justification for the Chosen Maximum Sequence Length\n",
    "The maximum sequence length is the review with the highest number of words in the Amazon datset. The reason the maximum sequence length is chosen is to help ensure the model uses all available input data, which leads to better conclusions. If some inputs are shorter than this maximum length, we can add padding to make them fit. The chosen maximum sequence length is 17."
   ]
  },
  {
   "cell_type": "code",
   "execution_count": 11,
   "id": "7cf9717f",
   "metadata": {},
   "outputs": [
    {
     "name": "stdout",
     "output_type": "stream",
     "text": [
      "Max length:  17\n"
     ]
    }
   ],
   "source": [
    "# The code shown in part B1c shows the statistical justification of the maximum length of sequences\n",
    "print(\"Max length: \", max_length)"
   ]
  },
  {
   "cell_type": "markdown",
   "id": "1563d7c1",
   "metadata": {},
   "source": [
    "### B2. Tokenization\n",
    "For the analysis, tokenization was used to determine the vocabulary size by determining the number of unique (tokenized) words in the dataset. The method was imported from the following: \"from tensorflow.keras.preprocessing.text import Tokenizer\". Refer to part B1b for tokenization code. Tokenization is the process of breaking down the unstructured text into smaller units called tokens. These tokens could be words, punctuation marks, sentences, etc. The goal is to remove any unusual characters, stopwords, and break down the text to make it easier for machines to process the information without losing its meaning (Awan, 2024)."
   ]
  },
  {
   "cell_type": "markdown",
   "id": "16f5734c",
   "metadata": {},
   "source": [
    "### B3. Padding Process\n",
    "Padding is a process used to standardize the sequence length by adding characters (spaces, zeros, etc.) to string data to make them all the same length. This process was imported from the following: \"from tensorflow.keras.preprocessing.sequence import pad_sequences\". The padding occurs after the text sequence."
   ]
  },
  {
   "cell_type": "code",
   "execution_count": 12,
   "id": "a99f2ffb",
   "metadata": {
    "scrolled": true
   },
   "outputs": [
    {
     "data": {
      "text/plain": [
       "array([[ 132,   78,  430, ...,    0,    0,    0],\n",
       "       [   5,   15,   21, ...,    0,    0,    0],\n",
       "       [   2,  314,    0, ...,    0,    0,    0],\n",
       "       ...,\n",
       "       [  37,   24,  349, ...,    0,    0,    0],\n",
       "       [  57, 1564, 1565, ...,    0,    0,    0],\n",
       "       [ 657,   29,  116, ...,    0,    0,    0]])"
      ]
     },
     "execution_count": 12,
     "metadata": {},
     "output_type": "execute_result"
    }
   ],
   "source": [
    "# Apply padding to description_list\n",
    "sequences = tokenizer.texts_to_sequences(description_list)\n",
    "padded_seq = pad_sequences(sequences, maxlen=max_length, padding='post', truncating='post')\n",
    "\n",
    "# Display the padded sequence\n",
    "padded_seq"
   ]
  },
  {
   "cell_type": "code",
   "execution_count": 13,
   "id": "177d9de2",
   "metadata": {},
   "outputs": [
    {
     "name": "stdout",
     "output_type": "stream",
     "text": [
      "[671  78  20 189  79  20 248  80   0   0   0   0   0   0   0   0   0]\n",
      "jiggle plug get line right get decent volume\n",
      "jiggle plug get line right get decent volume\n"
     ]
    }
   ],
   "source": [
    "# Print an example of a single padded sequence\n",
    "to_words = tokenizer.sequences_to_texts(padded_seq)\n",
    "to_words[5]\n",
    "\n",
    "print(padded_seq[5])\n",
    "print(description_list[5])\n",
    "print(to_words[5])"
   ]
  },
  {
   "cell_type": "markdown",
   "id": "f1489473",
   "metadata": {},
   "source": [
    "### B4. Categories of Sentiment\n",
    "The sentiment column in the Amazon dataset has two values, 0 and 1. The negative sentiment is represented by \"0\" and the positive sentiment is represented by \"1\". Therefore, the sigmoid activation function will be used since it is primarily used for classifying binary categories."
   ]
  },
  {
   "cell_type": "markdown",
   "id": "3b202294",
   "metadata": {},
   "source": [
    "### B5. Data Preparation Steps\n",
    "1. Import packages and libraries.\n",
    "2. Load the amazon dataset by using read_csv command.\n",
    "3. Explore the data.\n",
    "4. Clean the data.\n",
    "5. Remove the stop words, special characters, etc from the reviews column.\n",
    "6. Identify the vocabulary size, the number of unique (tokenized) words in the dataset.\n",
    "7. Find the proposed word embedding length.\n",
    "8. Perform tokenization on the data.\n",
    "9. Apply padding to the data.\n",
    "10. Determine the number of sentiment categories.\n",
    "11. Perform the sigmoid activation function in a neural network.\n",
    "12. Split the data into training and testing sets with an 80/20 split.\n",
    "13. Save the training sets, testing sets, and cleaned dataframe as csv files."
   ]
  },
  {
   "cell_type": "code",
   "execution_count": 14,
   "id": "56ad91e7",
   "metadata": {
    "scrolled": true
   },
   "outputs": [],
   "source": [
    "# Split the data into training and testing sets\n",
    "padded_X = pad_sequences(sequences, maxlen=max_length, padding='post', truncating='post')\n",
    "X= padded_X\n",
    "y = clean_df['Sentiment'].values\n",
    "\n",
    "X_train, X_test, y_train, y_test = train_test_split(X, y, test_size=0.20, random_state=100)\n",
    "\n",
    "# Convert the categorical data into a format suitable for machine learning by one-hot encoding\n",
    "y_train_cat = to_categorical(y_train, num_classes=2)\n",
    "y_test_cat = to_categorical(y_test, num_classes=2)"
   ]
  },
  {
   "cell_type": "code",
   "execution_count": 15,
   "id": "fd41f616",
   "metadata": {},
   "outputs": [
    {
     "name": "stdout",
     "output_type": "stream",
     "text": [
      "X_train Size: (800, 17)\n",
      "X_test Size: (200, 17)\n",
      "y_train Size: (800, 2)\n",
      "y_test Size: (200, 2)\n"
     ]
    }
   ],
   "source": [
    "# Print the training and testing sizes\n",
    "print(\"X_train Size:\",X_train.shape)\n",
    "print(\"X_test Size:\",X_test.shape)\n",
    "print(\"y_train Size:\",y_train_cat.shape)\n",
    "print(\"y_test Size:\",y_test_cat.shape)"
   ]
  },
  {
   "cell_type": "markdown",
   "id": "62ab1ba3",
   "metadata": {},
   "source": [
    "### B6. Prepared Data\n",
    "The testing and training sets, as well as the cleaned dataframe, will be attached to the submission as the csv files listed below."
   ]
  },
  {
   "cell_type": "code",
   "execution_count": 16,
   "id": "33940777",
   "metadata": {},
   "outputs": [],
   "source": [
    "# Create dataframes of the testing and training sets\n",
    "X_train_df = pd.DataFrame(X_train)\n",
    "X_test_df = pd.DataFrame(X_test)\n",
    "y_train_df = pd.DataFrame(y_train_cat)\n",
    "y_test_df = pd.DataFrame(y_test_cat)\n",
    "\n",
    "# Export the dataframes as csv files\n",
    "pd.DataFrame(X_train_df).to_csv('X_train_df.csv')\n",
    "pd.DataFrame(X_test_df).to_csv('X_test_df.csv')\n",
    "pd.DataFrame(y_train_df).to_csv('y_train_df.csv')\n",
    "pd.DataFrame(y_test_df).to_csv('y_test_df.csv')\n",
    "\n",
    "# Export the cleaned dataframe as a csv file\n",
    "pd.DataFrame(clean_df).to_csv('clean_df_D213_task2.csv')"
   ]
  },
  {
   "cell_type": "markdown",
   "id": "50a0a55a",
   "metadata": {},
   "source": [
    "## Part III: Network Architecture\n",
    "### C1. Model Summary"
   ]
  },
  {
   "cell_type": "code",
   "execution_count": 17,
   "id": "863997d4",
   "metadata": {},
   "outputs": [],
   "source": [
    "# Perform the sigmoid activation function\n",
    "loss = 'binary_crossentropy'\n",
    "optimizer = 'adam' \n",
    "\n",
    "# Define early stopping monitor \n",
    "early_stopping_monitor = EarlyStopping(patience=2)\n",
    "\n",
    "# Create a sequential model\n",
    "model = Sequential()\n",
    "\n",
    "# Add layers using the add() method\n",
    "model = tf.keras.Sequential([\n",
    "    tf.keras.layers.Input(shape=(int(X_train.shape[1]),)),\n",
    "    tf.keras.layers.Embedding(vocab_size, max_length),\n",
    "    tf.keras.layers.GlobalAveragePooling1D(),\n",
    "    tf.keras.layers.Dense(100, activation='relu'),\n",
    "    tf.keras.layers.Dense(50, activation='relu'),\n",
    "    tf.keras.layers.Dense(1, activation='sigmoid')\n",
    "])\n",
    "\n",
    "# Compile the model\n",
    "model.compile(loss=loss, optimizer=optimizer, metrics=['accuracy'])"
   ]
  },
  {
   "cell_type": "code",
   "execution_count": 18,
   "id": "b3470de2",
   "metadata": {},
   "outputs": [
    {
     "data": {
      "text/html": [
       "<pre style=\"white-space:pre;overflow-x:auto;line-height:normal;font-family:Menlo,'DejaVu Sans Mono',consolas,'Courier New',monospace\"><span style=\"font-weight: bold\">Model: \"sequential_1\"</span>\n",
       "</pre>\n"
      ],
      "text/plain": [
       "\u001b[1mModel: \"sequential_1\"\u001b[0m\n"
      ]
     },
     "metadata": {},
     "output_type": "display_data"
    },
    {
     "data": {
      "text/html": [
       "<pre style=\"white-space:pre;overflow-x:auto;line-height:normal;font-family:Menlo,'DejaVu Sans Mono',consolas,'Courier New',monospace\">┏━━━━━━━━━━━━━━━━━━━━━━━━━━━━━━━━━┳━━━━━━━━━━━━━━━━━━━━━━━━┳━━━━━━━━━━━━━━━┓\n",
       "┃<span style=\"font-weight: bold\"> Layer (type)                    </span>┃<span style=\"font-weight: bold\"> Output Shape           </span>┃<span style=\"font-weight: bold\">       Param # </span>┃\n",
       "┡━━━━━━━━━━━━━━━━━━━━━━━━━━━━━━━━━╇━━━━━━━━━━━━━━━━━━━━━━━━╇━━━━━━━━━━━━━━━┩\n",
       "│ embedding (<span style=\"color: #0087ff; text-decoration-color: #0087ff\">Embedding</span>)           │ (<span style=\"color: #00d7ff; text-decoration-color: #00d7ff\">None</span>, <span style=\"color: #00af00; text-decoration-color: #00af00\">17</span>, <span style=\"color: #00af00; text-decoration-color: #00af00\">17</span>)         │        <span style=\"color: #00af00; text-decoration-color: #00af00\">26,656</span> │\n",
       "├─────────────────────────────────┼────────────────────────┼───────────────┤\n",
       "│ global_average_pooling1d        │ (<span style=\"color: #00d7ff; text-decoration-color: #00d7ff\">None</span>, <span style=\"color: #00af00; text-decoration-color: #00af00\">17</span>)             │             <span style=\"color: #00af00; text-decoration-color: #00af00\">0</span> │\n",
       "│ (<span style=\"color: #0087ff; text-decoration-color: #0087ff\">GlobalAveragePooling1D</span>)        │                        │               │\n",
       "├─────────────────────────────────┼────────────────────────┼───────────────┤\n",
       "│ dense (<span style=\"color: #0087ff; text-decoration-color: #0087ff\">Dense</span>)                   │ (<span style=\"color: #00d7ff; text-decoration-color: #00d7ff\">None</span>, <span style=\"color: #00af00; text-decoration-color: #00af00\">100</span>)            │         <span style=\"color: #00af00; text-decoration-color: #00af00\">1,800</span> │\n",
       "├─────────────────────────────────┼────────────────────────┼───────────────┤\n",
       "│ dense_1 (<span style=\"color: #0087ff; text-decoration-color: #0087ff\">Dense</span>)                 │ (<span style=\"color: #00d7ff; text-decoration-color: #00d7ff\">None</span>, <span style=\"color: #00af00; text-decoration-color: #00af00\">50</span>)             │         <span style=\"color: #00af00; text-decoration-color: #00af00\">5,050</span> │\n",
       "├─────────────────────────────────┼────────────────────────┼───────────────┤\n",
       "│ dense_2 (<span style=\"color: #0087ff; text-decoration-color: #0087ff\">Dense</span>)                 │ (<span style=\"color: #00d7ff; text-decoration-color: #00d7ff\">None</span>, <span style=\"color: #00af00; text-decoration-color: #00af00\">1</span>)              │            <span style=\"color: #00af00; text-decoration-color: #00af00\">51</span> │\n",
       "└─────────────────────────────────┴────────────────────────┴───────────────┘\n",
       "</pre>\n"
      ],
      "text/plain": [
       "┏━━━━━━━━━━━━━━━━━━━━━━━━━━━━━━━━━┳━━━━━━━━━━━━━━━━━━━━━━━━┳━━━━━━━━━━━━━━━┓\n",
       "┃\u001b[1m \u001b[0m\u001b[1mLayer (type)                   \u001b[0m\u001b[1m \u001b[0m┃\u001b[1m \u001b[0m\u001b[1mOutput Shape          \u001b[0m\u001b[1m \u001b[0m┃\u001b[1m \u001b[0m\u001b[1m      Param #\u001b[0m\u001b[1m \u001b[0m┃\n",
       "┡━━━━━━━━━━━━━━━━━━━━━━━━━━━━━━━━━╇━━━━━━━━━━━━━━━━━━━━━━━━╇━━━━━━━━━━━━━━━┩\n",
       "│ embedding (\u001b[38;5;33mEmbedding\u001b[0m)           │ (\u001b[38;5;45mNone\u001b[0m, \u001b[38;5;34m17\u001b[0m, \u001b[38;5;34m17\u001b[0m)         │        \u001b[38;5;34m26,656\u001b[0m │\n",
       "├─────────────────────────────────┼────────────────────────┼───────────────┤\n",
       "│ global_average_pooling1d        │ (\u001b[38;5;45mNone\u001b[0m, \u001b[38;5;34m17\u001b[0m)             │             \u001b[38;5;34m0\u001b[0m │\n",
       "│ (\u001b[38;5;33mGlobalAveragePooling1D\u001b[0m)        │                        │               │\n",
       "├─────────────────────────────────┼────────────────────────┼───────────────┤\n",
       "│ dense (\u001b[38;5;33mDense\u001b[0m)                   │ (\u001b[38;5;45mNone\u001b[0m, \u001b[38;5;34m100\u001b[0m)            │         \u001b[38;5;34m1,800\u001b[0m │\n",
       "├─────────────────────────────────┼────────────────────────┼───────────────┤\n",
       "│ dense_1 (\u001b[38;5;33mDense\u001b[0m)                 │ (\u001b[38;5;45mNone\u001b[0m, \u001b[38;5;34m50\u001b[0m)             │         \u001b[38;5;34m5,050\u001b[0m │\n",
       "├─────────────────────────────────┼────────────────────────┼───────────────┤\n",
       "│ dense_2 (\u001b[38;5;33mDense\u001b[0m)                 │ (\u001b[38;5;45mNone\u001b[0m, \u001b[38;5;34m1\u001b[0m)              │            \u001b[38;5;34m51\u001b[0m │\n",
       "└─────────────────────────────────┴────────────────────────┴───────────────┘\n"
      ]
     },
     "metadata": {},
     "output_type": "display_data"
    },
    {
     "data": {
      "text/html": [
       "<pre style=\"white-space:pre;overflow-x:auto;line-height:normal;font-family:Menlo,'DejaVu Sans Mono',consolas,'Courier New',monospace\"><span style=\"font-weight: bold\"> Total params: </span><span style=\"color: #00af00; text-decoration-color: #00af00\">33,557</span> (131.08 KB)\n",
       "</pre>\n"
      ],
      "text/plain": [
       "\u001b[1m Total params: \u001b[0m\u001b[38;5;34m33,557\u001b[0m (131.08 KB)\n"
      ]
     },
     "metadata": {},
     "output_type": "display_data"
    },
    {
     "data": {
      "text/html": [
       "<pre style=\"white-space:pre;overflow-x:auto;line-height:normal;font-family:Menlo,'DejaVu Sans Mono',consolas,'Courier New',monospace\"><span style=\"font-weight: bold\"> Trainable params: </span><span style=\"color: #00af00; text-decoration-color: #00af00\">33,557</span> (131.08 KB)\n",
       "</pre>\n"
      ],
      "text/plain": [
       "\u001b[1m Trainable params: \u001b[0m\u001b[38;5;34m33,557\u001b[0m (131.08 KB)\n"
      ]
     },
     "metadata": {},
     "output_type": "display_data"
    },
    {
     "data": {
      "text/html": [
       "<pre style=\"white-space:pre;overflow-x:auto;line-height:normal;font-family:Menlo,'DejaVu Sans Mono',consolas,'Courier New',monospace\"><span style=\"font-weight: bold\"> Non-trainable params: </span><span style=\"color: #00af00; text-decoration-color: #00af00\">0</span> (0.00 B)\n",
       "</pre>\n"
      ],
      "text/plain": [
       "\u001b[1m Non-trainable params: \u001b[0m\u001b[38;5;34m0\u001b[0m (0.00 B)\n"
      ]
     },
     "metadata": {},
     "output_type": "display_data"
    }
   ],
   "source": [
    "# Print the model summary \n",
    "model.summary()"
   ]
  },
  {
   "cell_type": "markdown",
   "id": "ca91283a",
   "metadata": {},
   "source": [
    "### C2. Network Architecture\n",
    "The network created is made up of five layers and 33,557 trainable parameters. The layer types as well as their parameters can be found below:\n",
    "* Layer 1: Embedding layer, parameters - 26,656\n",
    "* Layer 2: Global Average layer, parameters - 0\n",
    "* Layer 3: Dense layer, parameters - 1,800\n",
    "* Layer 4: Dense layer, parameters - 5,050\n",
    "* Layer 5: Dense layer, parameters - 51\n",
    "\n",
    "### C3. Hyperparameters\n",
    "#### C3a. Activation Functions\n",
    "There are three dense layers in my model that need an activation function. I chose to use the sigmoid activation function since it is best used with binary classification data.\n",
    "\n",
    "#### C3b. Number of Nodes Per Layer\n",
    "I started with one hidden layer and then added another to see if it would improve the accuracy. After re-running the model  multiple times, I determined the first hidden dense layer has 100 nodes, the second has 50 nodes, and the output has 1 node for the binary class. \n",
    "\n",
    "#### C3c. Loss Function\n",
    "I chose to use the binary cross entropy loss function since the sentiment column of the dataset already has values of 0 and 1. Binary cross entropy gives a probability value within 0 and 1. Values closer to 1 represent the positive sentiment (Tannor, 2024).\n",
    "\n",
    "#### C3d. Optimizer\n",
    "The optimizer chosen for the network was the Adam optimizer. The Adam optimizer is a commonly used algorithm used in deep learning that modifies the network's characteristics to improve the accuracy and reduces the loss (Ayush, 2024).\n",
    "\n",
    "#### C3e. Stopping Criteria\n",
    "The stopping criteria used was early_stopping_monitor determined by the number of patience. This will stop the training process once the validation loss starts to increase to prevent overfitting. I chose 2 to be the value of patience because 2 or 3 is typically is a good value. I also chose a maximum number of 10 epochs, or training iterations (Elleh, n.d.).\n",
    "\n",
    "#### C3f. Evaluation Metric\n",
    "The evaluation metric chosen is accuracy. The code and further discussion can be found under part D2."
   ]
  },
  {
   "cell_type": "markdown",
   "id": "ee04d559",
   "metadata": {},
   "source": [
    "## Part IV: Model Evaluation\n",
    "### D1. Stopping Criteria\n",
    "As already mentioned in part C3e, the stopping criteria used was early_stopping_monitor determined by the number of patience. This will stop the training process once the validation loss starts to increase to prevent overfitting. I chose 2 to be the value of patience because 2 or 3 is typically is a good value. I originally chose a maximum number of 20 epochs, or training iterations. However, after trial and error, I came to the conclusion to change the maximum number to 10 because it had less loss and higher accuracy. The model can stop before 10 epochs though if all conditions are internally satisfied. The final training epoch is shown below."
   ]
  },
  {
   "cell_type": "code",
   "execution_count": 19,
   "id": "75273b2e",
   "metadata": {},
   "outputs": [
    {
     "name": "stdout",
     "output_type": "stream",
     "text": [
      "Epoch 1/10\n",
      "\u001b[1m12/12\u001b[0m \u001b[32m━━━━━━━━━━━━━━━━━━━━\u001b[0m\u001b[37m\u001b[0m \u001b[1m1s\u001b[0m 11ms/step - accuracy: 0.5279 - loss: 0.6932 - val_accuracy: 0.6375 - val_loss: 0.6926\n",
      "Epoch 2/10\n",
      "\u001b[1m12/12\u001b[0m \u001b[32m━━━━━━━━━━━━━━━━━━━━\u001b[0m\u001b[37m\u001b[0m \u001b[1m0s\u001b[0m 4ms/step - accuracy: 0.6011 - loss: 0.6916 - val_accuracy: 0.5083 - val_loss: 0.6914\n",
      "Epoch 3/10\n",
      "\u001b[1m12/12\u001b[0m \u001b[32m━━━━━━━━━━━━━━━━━━━━\u001b[0m\u001b[37m\u001b[0m \u001b[1m0s\u001b[0m 4ms/step - accuracy: 0.5863 - loss: 0.6899 - val_accuracy: 0.5125 - val_loss: 0.6894\n",
      "Epoch 4/10\n",
      "\u001b[1m12/12\u001b[0m \u001b[32m━━━━━━━━━━━━━━━━━━━━\u001b[0m\u001b[37m\u001b[0m \u001b[1m0s\u001b[0m 4ms/step - accuracy: 0.5311 - loss: 0.6830 - val_accuracy: 0.6208 - val_loss: 0.6845\n",
      "Epoch 5/10\n",
      "\u001b[1m12/12\u001b[0m \u001b[32m━━━━━━━━━━━━━━━━━━━━\u001b[0m\u001b[37m\u001b[0m \u001b[1m0s\u001b[0m 4ms/step - accuracy: 0.8221 - loss: 0.6706 - val_accuracy: 0.7458 - val_loss: 0.6727\n",
      "Epoch 6/10\n",
      "\u001b[1m12/12\u001b[0m \u001b[32m━━━━━━━━━━━━━━━━━━━━\u001b[0m\u001b[37m\u001b[0m \u001b[1m0s\u001b[0m 4ms/step - accuracy: 0.8570 - loss: 0.6468 - val_accuracy: 0.8083 - val_loss: 0.6518\n",
      "Epoch 7/10\n",
      "\u001b[1m12/12\u001b[0m \u001b[32m━━━━━━━━━━━━━━━━━━━━\u001b[0m\u001b[37m\u001b[0m \u001b[1m0s\u001b[0m 4ms/step - accuracy: 0.9186 - loss: 0.6037 - val_accuracy: 0.6250 - val_loss: 0.6267\n",
      "Epoch 8/10\n",
      "\u001b[1m12/12\u001b[0m \u001b[32m━━━━━━━━━━━━━━━━━━━━\u001b[0m\u001b[37m\u001b[0m \u001b[1m0s\u001b[0m 4ms/step - accuracy: 0.8012 - loss: 0.5530 - val_accuracy: 0.7000 - val_loss: 0.5858\n",
      "Epoch 9/10\n",
      "\u001b[1m12/12\u001b[0m \u001b[32m━━━━━━━━━━━━━━━━━━━━\u001b[0m\u001b[37m\u001b[0m \u001b[1m0s\u001b[0m 4ms/step - accuracy: 0.8633 - loss: 0.4752 - val_accuracy: 0.8042 - val_loss: 0.5383\n",
      "Epoch 10/10\n",
      "\u001b[1m12/12\u001b[0m \u001b[32m━━━━━━━━━━━━━━━━━━━━\u001b[0m\u001b[37m\u001b[0m \u001b[1m0s\u001b[0m 4ms/step - accuracy: 0.9324 - loss: 0.3740 - val_accuracy: 0.7958 - val_loss: 0.5002\n"
     ]
    }
   ],
   "source": [
    "# Train the model\n",
    "history = model.fit(X_train, y_train, batch_size=50, epochs=10, validation_split = 0.3,\n",
    "                    callbacks=[early_stopping_monitor], verbose=True)"
   ]
  },
  {
   "cell_type": "markdown",
   "id": "b4a8a7c3",
   "metadata": {},
   "source": [
    "### D2. Fitness\n",
    "Overfitting can occur if the model remembers too much information from the training set to where it cannot adjust to the testing data. I nearly suffered from overfitting when running the code above. I realized I had to reduce the number of epochs from 20 to 10 to prevent overfitting. Once corrected, the model accuracy is now 74.5%. According to Dr. Sewell's video presentation, this is a good model accuracy since it is nearing 80% and the validation accuracy is about 80% too on the last iteration. The training model accuracy is 90.13%."
   ]
  },
  {
   "cell_type": "code",
   "execution_count": 20,
   "id": "af758e4a",
   "metadata": {},
   "outputs": [
    {
     "name": "stdout",
     "output_type": "stream",
     "text": [
      "Final Model Loss:  0.52805\n",
      "Final Model Accuracy:  74.5 %\n"
     ]
    }
   ],
   "source": [
    "# Print the model accuracy on test data\n",
    "score = model.evaluate(X_test, y_test, verbose=0)\n",
    "\n",
    "print('Final Model Loss: ', round(score[0],5))\n",
    "print('Final Model Accuracy: ', round(score[1]*100, 2),'%')"
   ]
  },
  {
   "cell_type": "code",
   "execution_count": 21,
   "id": "1a50d40f",
   "metadata": {},
   "outputs": [
    {
     "name": "stdout",
     "output_type": "stream",
     "text": [
      "Training Final Model Accuracy:  90.13 %\n"
     ]
    }
   ],
   "source": [
    "score = model.evaluate(X_train, y_train, verbose=0)\n",
    "print('Training Final Model Accuracy: ', round(score[1]*100, 2),'%')"
   ]
  },
  {
   "cell_type": "markdown",
   "id": "23b6a932",
   "metadata": {},
   "source": [
    "### D3. Training Process"
   ]
  },
  {
   "cell_type": "code",
   "execution_count": 22,
   "id": "3a8b1635",
   "metadata": {
    "scrolled": true
   },
   "outputs": [
    {
     "data": {
      "image/png": "[encoded data removed]",
      "text/plain": [
       "<Figure size 1000x600 with 1 Axes>"
      ]
     },
     "metadata": {},
     "output_type": "display_data"
    }
   ],
   "source": [
    "# Define the accuracy and loss of the training history\n",
    "accuracy = history.history['accuracy']\n",
    "loss = history.history['loss']\n",
    "val_accuracy = history.history['val_accuracy']\n",
    "val_loss = history.history['val_loss']\n",
    "\n",
    "# Plot the accuracy\n",
    "plt.figure(figsize=(10, 6))\n",
    "plt.plot(range(1, len(accuracy) + 1), accuracy, label='Training Accuracy')\n",
    "plt.plot(range(1, len(val_accuracy) + 1), val_accuracy, label='Validation Accuracy')\n",
    "plt.title('Model Accuracy')\n",
    "plt.xlabel('Epochs')\n",
    "plt.ylabel('Accuracy')\n",
    "plt.legend()\n",
    "plt.show()"
   ]
  },
  {
   "cell_type": "code",
   "execution_count": 23,
   "id": "90f33532",
   "metadata": {},
   "outputs": [
    {
     "data": {
      "image/png": "[encoded data removed]",
      "text/plain": [
       "<Figure size 1000x600 with 1 Axes>"
      ]
     },
     "metadata": {},
     "output_type": "display_data"
    }
   ],
   "source": [
    "# Plot the loss\n",
    "plt.figure(figsize=(10, 6))\n",
    "plt.plot(range(1, len(loss) + 1), loss, label='Training Loss')\n",
    "plt.plot(range(1, len(val_loss) + 1), val_loss, label='Validation Loss')\n",
    "plt.title('Model Loss')\n",
    "plt.xlabel('Epochs')\n",
    "plt.ylabel('Loss')\n",
    "plt.legend()\n",
    "plt.show()"
   ]
  },
  {
   "cell_type": "markdown",
   "id": "3600aecf",
   "metadata": {},
   "source": [
    "### D4. Predictive Accuracy\n",
    "The predictive accuracy of the model was 74.5% which shows the model can accurately predict 74.5% of the training data. The final model loss was 0.52805. According to the heatmap shown below, the model correctly predicted a positive sentiment represented by 1, 60 out of 106 reviews and predicted a negative sentiment represented by 0, correctly 57 out of 94 reviews."
   ]
  },
  {
   "cell_type": "code",
   "execution_count": 24,
   "id": "81312ec7",
   "metadata": {
    "scrolled": true
   },
   "outputs": [
    {
     "data": {
      "image/png": "[encoded data removed]",
      "text/plain": [
       "<Figure size 640x480 with 2 Axes>"
      ]
     },
     "metadata": {},
     "output_type": "display_data"
    }
   ],
   "source": [
    "# Create the confusion matrix\n",
    "clf = SVC(random_state=0)\n",
    "clf.fit(X_train, y_train)\n",
    "SVC(random_state=0)\n",
    "predictions = clf.predict(X_test)\n",
    "cm = confusion_matrix(y_test, predictions, labels=clf.classes_)\n",
    "disp = ConfusionMatrixDisplay(confusion_matrix=cm, display_labels=clf.classes_)  \n",
    "disp.plot()\n",
    "plt.show()"
   ]
  },
  {
   "cell_type": "markdown",
   "id": "8b831558",
   "metadata": {},
   "source": [
    "## Part V: Summary & Recommendations\n",
    "### E. Code"
   ]
  },
  {
   "cell_type": "code",
   "execution_count": 25,
   "id": "66c4a034",
   "metadata": {},
   "outputs": [],
   "source": [
    "# Save the trained model\n",
    "model.save('D213_trained_model.keras')"
   ]
  },
  {
   "cell_type": "markdown",
   "id": "12deac9e",
   "metadata": {},
   "source": [
    "### F. Functionality\n",
    "The provided dataset has 1,000 Amazon customer reviews and their sentiments labelled as 0 and 1. The model was trained on 80% of the data (training set) and the other 20% was used for testing the performance of the model (testing set). The model was able to accurately predict 90.13% of the training set and 74.5% of the testing set. \n",
    "\n",
    "The network architecture of the model was used for sentiment analysis. The network architecture was constructed by trial and error, depending on the accuracy and amount of loss by starting with one hidden layer and then added another to see if it would improve the accuracy. Once I got an acceptable accuracy, this helped detect the sentiment of the Amazon customer reviews. The layers and the type of activation function used in each layer was chosen based on the binary data being tested on (postive/negative sentiments). The architecture determines how the model learns patterns from the data, allowing it to perform classification on the reviews.\n",
    "\n",
    "### G. Recommendations\n",
    "According to the predicitive accuracy calculated, it is possible to construct a neural network to predict if an Amazon customer's review will be positive or negative on a product based on past reviews from other Amazon customers since it had good functionality as show in part F. The model can be used to predict the sentiments and analyze the trends to improve customer satisfaction. My recommendation is to provide more customer reviews. Neural networks generally perform better with larger datasets since they were created to analyze and learn complex patterns, but make sure the data quality is sufficient because that can affect the model's performance."
   ]
  },
  {
   "attachments": {},
   "cell_type": "markdown",
   "id": "fe3d6d1a",
   "metadata": {},
   "source": [
    "## Part VI: Reporting\n",
    "### H. Reporting\n",
    "An HTML file has been attached to the submission as \"D213_Task2.html\"\n",
    "\n",
    "### I. Sources for Third-Party Code\n",
    "Elleh, F. D213 Task 2 Cohort Webinar [PowerPoint Slides].\n",
    "\n",
    "D213 Sentiment Analysis Presentation _ 3_default_da1cc82b [Webinar]. WGU. https://wgu.hosted.panopto.com/Panopto/Pages/Viewer.aspx?id=fe172002-6cbb-40c0-92a3-b07d01025504\n",
    "\n",
    "### J. Sources\n",
    "Donges, N. (2024b, October 17). What are recurrent neural networks (rnns)?. Built In. https://builtin.com/data-science/recurrent-neural-networks-and-lstm#:~:text=recurrent%20neural%20network%3F-,A%20recurrent%20neural%20network%20(RNN)%20is%20a%20type%20of%20neural,inputs%2C%20learning%20from%20past%20experiences. \n",
    "\n",
    "Awan, A. A. (2024, November 22). What is tokenization? types, use cases, implementation. DataCamp. https://www.datacamp.com/blog/what-is-tokenization \n",
    "\n",
    "Tannor, P. (2024, June 25). What is binary cross entropy? calculation & its significance. Deepchecks. https://www.deepchecks.com/glossary/binary-cross-entropy/#:~:text=Binary%20Cross%20Entropy%20is%20a,0%20for%20its%20negative%20counterpart. \n",
    "\n",
    "Ayush. (2024, December 10). Optimizers in Deep learning: A detailed guide. Analytics Vidhya. https://www.analyticsvidhya.com/blog/2021/10/a-comprehensive-guide-on-deep-learning-optimizers/#:~:text=While%20training%20the%20deep%20learning,overall%20loss%20and%20improving%20accuracy. \n",
    "\n",
    "Brownlee, J. (2021, Feb 02). How to use word embedding layers for deep learning with keras. https://machinelearningmastery.com/use-word-embedding-layers-deep-learning-keras/ \n",
    "https://developers.googleblog.com/2017/11/introducing-tensorflow-feature-columns.html"
   ]
  },
  {
   "cell_type": "code",
   "execution_count": null,
   "id": "e438dca2",
   "metadata": {},
   "outputs": [],
   "source": []
  }
 ],
 "metadata": {
  "kernelspec": {
   "display_name": "Python [conda env:base] *",
   "language": "python",
   "name": "conda-base-py"
  },
  "language_info": {
   "codemirror_mode": {
    "name": "ipython",
    "version": 3
   },
   "file_extension": ".py",
   "mimetype": "text/x-python",
   "name": "python",
   "nbconvert_exporter": "python",
   "pygments_lexer": "ipython3",
   "version": "3.11.5"
  }
 },
 "nbformat": 4,
 "nbformat_minor": 5
}
